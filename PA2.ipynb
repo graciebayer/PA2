{
 "cells": [
  {
   "cell_type": "markdown",
   "id": "58c6c31e",
   "metadata": {},
   "source": [
    "# CS-150 Programming Assignment 2 - Working with Control Structures"
   ]
  },
  {
   "cell_type": "markdown",
   "id": "81270a28",
   "metadata": {},
   "source": [
    "## Gracie Bayer - Professor Sarkar - Fall 2021"
   ]
  },
  {
   "cell_type": "markdown",
   "id": "12a78097",
   "metadata": {},
   "source": [
    "### Chapter 3 - Intro to Python Programming - Deitel & Deitel"
   ]
  },
  {
   "cell_type": "code",
   "execution_count": 1,
   "id": "f185d3af",
   "metadata": {},
   "outputs": [
    {
     "name": "stdout",
     "output_type": "stream",
     "text": [
      "0\n",
      "1\n",
      "2\n",
      "3\n",
      "4\n",
      "5\n",
      "6 *\n",
      "7\n",
      "8\n",
      "9 *\n",
      "10\n",
      "11\n",
      "12 *\n",
      "13\n",
      "14\n",
      "15 *\n",
      "16\n",
      "17\n",
      "18 *\n",
      "19\n",
      "20\n",
      "21 *\n",
      "22\n",
      "23\n",
      "24 *\n",
      "25\n",
      "26\n",
      "27 *\n",
      "28\n",
      "29\n",
      "30 *\n",
      "31\n",
      "32\n",
      "33 *\n",
      "34\n",
      "35\n",
      "36 *\n",
      "37\n",
      "38\n",
      "39 *\n",
      "40\n",
      "41\n",
      "42 *\n",
      "43\n",
      "44\n",
      "45 *\n",
      "46\n",
      "47\n",
      "48 *\n",
      "49\n",
      "50\n",
      "51 *\n",
      "52\n",
      "53\n",
      "54 *\n",
      "55\n",
      "56\n",
      "57 *\n",
      "58\n",
      "59\n",
      "60 *\n",
      "61\n",
      "62\n",
      "63 *\n",
      "64\n",
      "65\n",
      "66 *\n",
      "67\n",
      "68\n",
      "69 *\n",
      "70\n",
      "71\n",
      "72 *\n",
      "73\n",
      "74\n",
      "75 *\n",
      "76\n",
      "77\n",
      "78 *\n",
      "79\n",
      "80\n",
      "81 *\n",
      "82\n",
      "83\n",
      "84 *\n",
      "85\n",
      "86\n",
      "87 *\n",
      "88\n",
      "89\n",
      "90 *\n",
      "91\n",
      "92\n",
      "93 *\n",
      "94\n",
      "95\n",
      "96 *\n",
      "97\n",
      "98\n",
      "99 *\n"
     ]
    }
   ],
   "source": [
    "for i in range(100):\n",
    "    if i<=100 and i!=0 and i!=3 and i%3==0:\n",
    "        print(i, '*')\n",
    "    else:\n",
    "        print(i)"
   ]
  },
  {
   "cell_type": "code",
   "execution_count": 2,
   "id": "9855927d",
   "metadata": {},
   "outputs": [
    {
     "name": "stdout",
     "output_type": "stream",
     "text": [
      "What is the subjects age? 9\n",
      "Minor\n",
      "What is the subjects age? 69\n",
      "Senior Citizen\n",
      "What is the subjects age? 56\n",
      "Adult\n",
      "What is the subjects age? 0\n"
     ]
    }
   ],
   "source": [
    "age=int(input(\"What is the subjects age? \"))\n",
    "while age>0:\n",
    "    if age<18:\n",
    "        print(\"Minor\")\n",
    "        age=int(input(\"What is the subjects age? \"))\n",
    "    elif age>18 and age<64:\n",
    "        print(\"Adult\")\n",
    "        age=int(input(\"What is the subjects age? \"))\n",
    "    elif age>=65:\n",
    "        print(\"Senior Citizen\")\n",
    "        age=int(input(\"What is the subjects age? \"))"
   ]
  },
  {
   "cell_type": "code",
   "execution_count": 3,
   "id": "54cd1992",
   "metadata": {},
   "outputs": [
    {
     "name": "stdout",
     "output_type": "stream",
     "text": [
      "65 : Senior Citizen\n",
      "78 : Senior Citizen\n",
      "34 : Adult\n",
      "56 : Adult\n",
      "12 : Minor\n",
      "9 : Minor\n",
      "43 : Adult\n",
      "67 : Senior Citizen\n"
     ]
    }
   ],
   "source": [
    "number=[65,78,34,56,12,9,43,67]\n",
    "for num in number:\n",
    "    if num>0 and num<18:\n",
    "        print(num, \": Minor\")\n",
    "    elif num>18 and num<64:\n",
    "        print(num, \": Adult\")\n",
    "    elif num>=65:\n",
    "        print(num, \": Senior Citizen\")"
   ]
  }
 ],
 "metadata": {
  "kernelspec": {
   "display_name": "Python 3",
   "language": "python",
   "name": "python3"
  },
  "language_info": {
   "codemirror_mode": {
    "name": "ipython",
    "version": 3
   },
   "file_extension": ".py",
   "mimetype": "text/x-python",
   "name": "python",
   "nbconvert_exporter": "python",
   "pygments_lexer": "ipython3",
   "version": "3.8.8"
  }
 },
 "nbformat": 4,
 "nbformat_minor": 5
}
